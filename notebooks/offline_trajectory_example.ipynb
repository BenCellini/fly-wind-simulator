{
 "cells": [
  {
   "cell_type": "code",
   "execution_count": 804,
   "id": "d99db372-7b5f-4a8a-ac3a-9418ebf99f87",
   "metadata": {},
   "outputs": [
    {
     "name": "stdout",
     "output_type": "stream",
     "text": [
      "The autoreload extension is already loaded. To reload it, use:\n",
      "  %reload_ext autoreload\n"
     ]
    }
   ],
   "source": [
    "%reset -f\n",
    "%load_ext autoreload\n",
    "%autoreload 2\n",
    "\n",
    "import sys\n",
    "import os\n",
    "\n",
    "sys.path.append(os.path.join(os.path.pardir, 'code'))\n",
    "\n",
    "import numpy as np\n",
    "from scipy import integrate\n",
    "import matplotlib.pyplot as plt\n",
    "from matplotlib import cm\n",
    "from matplotlib.colors import ListedColormap\n",
    "import pynumdiff\n",
    "import figurefirst as fifi\n",
    "import figure_functions as ff\n",
    "import pickle\n",
    "import pandas as pd\n",
    "\n",
    "from simulator import FlyWindDynamics"
   ]
  },
  {
   "cell_type": "markdown",
   "id": "8048bc2b-cdc5-4c04-9d8f-c143f096f666",
   "metadata": {},
   "source": [
    "### Initialize simulator"
   ]
  },
  {
   "cell_type": "code",
   "execution_count": 805,
   "id": "278b38bf-021f-464b-a689-538c94acaa7c",
   "metadata": {},
   "outputs": [],
   "source": [
    "# # SI units\n",
    "# m = 0.25e-6 # [kg]\n",
    "# I = 4.971e-12  # [N*m*s^2] yaw mass moment of inertia: 10.1242/jeb.038778\n",
    "# C_phi = 27.36e-12  # [N*m*s] yaw damping: 10.1242/jeb.038778\n",
    "# C_para = m / 0.170  # [N*s/m] calculate using the mass and time constant reported in 10.1242/jeb.098665\n",
    "# C_perp = C_para  # assume same as C_para"
   ]
  },
  {
   "cell_type": "code",
   "execution_count": 806,
   "id": "6ee1a17f-447f-442f-aead-4abee703ccaa",
   "metadata": {},
   "outputs": [],
   "source": [
    "# # Convert to units of mg & mm to help with scaling for ODE solver\n",
    "# m = m * 1e6  # [mg]\n",
    "# I = I * 1e6 * (1e3)**2  # [mg*mm/s^2 * mm*s^2]\n",
    "# C_phi = C_phi * 1e6 * (1e3)**2  # [mg*mm/s^2 *m*s]\n",
    "# C_para = C_para * 1e6  # [mg/s]\n",
    "# C_perp = C_perp * 1e6  # [mg/s]"
   ]
  },
  {
   "cell_type": "code",
   "execution_count": 807,
   "id": "5f7d30a5-f292-4e49-92ac-52b0b137af01",
   "metadata": {},
   "outputs": [],
   "source": [
    "# For simulation\n",
    "m = 0.01\n",
    "I = 0.05\n",
    "C_phi = 1.0\n",
    "C_para = 1.0\n",
    "C_perp = 1.0"
   ]
  },
  {
   "cell_type": "code",
   "execution_count": 808,
   "id": "b6b2d7eb-89d1-41f3-9455-d4049721c7fb",
   "metadata": {},
   "outputs": [
    {
     "name": "stdout",
     "output_type": "stream",
     "text": [
      "m: 0.01 \n",
      "I: 0.05 \n",
      "C_phi: 1.0 \n",
      "C_para: 1.0 \n",
      "C_perp: 1.0\n"
     ]
    }
   ],
   "source": [
    "print('m:', m, '\\nI:', I, '\\nC_phi:', C_phi, '\\nC_para:', C_para, '\\nC_perp:', C_perp)"
   ]
  },
  {
   "cell_type": "code",
   "execution_count": 809,
   "id": "62e14c89-aac8-4f20-b943-7b0a7dc8f404",
   "metadata": {},
   "outputs": [],
   "source": [
    "simulator = FlyWindDynamics(polar_mode=False, control_mode='open_loop',\n",
    "                            m=m, I=I, C_phi=C_phi, C_para=C_para, C_perp=C_perp)"
   ]
  },
  {
   "cell_type": "markdown",
   "id": "445449a1-84ac-4dc7-89f8-5f4bd3250016",
   "metadata": {},
   "source": [
    "### Set simulation time"
   ]
  },
  {
   "cell_type": "code",
   "execution_count": 810,
   "id": "6f4733ab-9df0-40cc-8583-eb642dfdba02",
   "metadata": {},
   "outputs": [],
   "source": [
    "# Simulation time\n",
    "fs = 50.0  # sampling frequency [hz]\n",
    "T = 0.2  # simulation time [s]\n",
    "dt = 1 / fs  # sampling time [s]\n",
    "tsim = np.arange(0, T + dt, dt).T  # simulation time vector [s]"
   ]
  },
  {
   "cell_type": "code",
   "execution_count": 811,
   "id": "0588a77a-1cff-436e-9fcb-458b9fce7fa7",
   "metadata": {},
   "outputs": [
    {
     "data": {
      "text/plain": [
       "(11,)"
      ]
     },
     "execution_count": 811,
     "metadata": {},
     "output_type": "execute_result"
    }
   ],
   "source": [
    "tsim.shape"
   ]
  },
  {
   "cell_type": "markdown",
   "id": "5bdd76f0-1faa-4895-b36e-db31a2ea8a26",
   "metadata": {},
   "source": [
    "### Set control commands"
   ]
  },
  {
   "cell_type": "code",
   "execution_count": 812,
   "id": "f3b727f9-bd58-4688-b01a-f37483bc3f62",
   "metadata": {},
   "outputs": [],
   "source": [
    "# Wind\n",
    "w = 0.2 * np.ones_like(tsim)\n",
    "zeta = 0.0 * np.ones_like(tsim)\n",
    "\n",
    "wdot = pynumdiff.finite_difference.second_order(w, dt)[1]\n",
    "zetadot = pynumdiff.finite_difference.second_order(zeta, dt)[1]\n",
    "\n",
    "# Thrust\n",
    "r_para = 1.0 * np.ones_like(tsim)\n",
    "r_perp = 0.0 * np.ones_like(tsim)\n",
    "\n",
    "# Heading\n",
    "r_phi = 0.0 * np.ones_like(tsim)\n",
    "r_phi[2:5] = 30.0 # add turn (this is where we would input delta WBA)"
   ]
  },
  {
   "cell_type": "code",
   "execution_count": 813,
   "id": "f5b5371d-9fd7-4fb2-8baf-58fd58d0a50c",
   "metadata": {},
   "outputs": [],
   "source": [
    "# Collect commands\n",
    "usim = np.stack((r_para, r_perp, r_phi, wdot, zetadot), axis=1)"
   ]
  },
  {
   "cell_type": "markdown",
   "id": "7f39c017-a4aa-4c2a-bd17-9fc9cabe0f5f",
   "metadata": {},
   "source": [
    "### Set initial conditions"
   ]
  },
  {
   "cell_type": "code",
   "execution_count": 814,
   "id": "1ea19ac3-c727-4d95-81c0-0677237a7320",
   "metadata": {},
   "outputs": [],
   "source": [
    "v_para_0 = r_para[0]  # parallel ground speed\n",
    "v_perp_0 = r_perp[0]  # perpendicular ground speed\n",
    "phi0 = np.pi / 2  # heading in global frame\n",
    "phidot0 = 0.0  # angular velocity\n",
    "w0 = w[0]  # wind speed\n",
    "zeta0 = zeta[0] # wind direction in global frame"
   ]
  },
  {
   "cell_type": "code",
   "execution_count": 815,
   "id": "2d06b5b1-0d48-4235-83ec-3a3bb00e5b5a",
   "metadata": {},
   "outputs": [],
   "source": [
    "# Collect initial conditions\n",
    "x0 = np.array([v_para_0, v_perp_0, phi0, phidot0, w0, zeta0])"
   ]
  },
  {
   "cell_type": "markdown",
   "id": "b06b6c71-a38c-432b-b78f-7d4601275639",
   "metadata": {},
   "source": [
    "### Run simulation"
   ]
  },
  {
   "cell_type": "code",
   "execution_count": 816,
   "id": "ac53e7c8-a3ba-45c7-91fc-6949e85c3b21",
   "metadata": {},
   "outputs": [
    {
     "data": {
      "text/plain": [
       "dict_keys(['time', 'x', 'v_para', 'v_perp', 'phi', 'phidot', 'w', 'zeta', 'xvel', 'yvel', 'xpos', 'ypos', 'g', 'psi', 'a', 'gamma', 'a_para', 'a_perp', 'q', 'alpha', 'beta', 'dir_of_travel', 'r_para', 'r_perp', 'r_phi', 'u_para', 'u_perp', 'u_phi', 'u_g', 'u_psi', 'v_para_dot', 'v_perp_dot', 'phiddot', 'wdot', 'zetadot'])"
      ]
     },
     "execution_count": 816,
     "metadata": {},
     "output_type": "execute_result"
    }
   ],
   "source": [
    "sim_data = simulator.simulate(x0, tsim, usim)\n",
    "sim_data.keys()"
   ]
  },
  {
   "cell_type": "code",
   "execution_count": 817,
   "id": "a0e97af2-b17b-4348-b69f-c1ffb22f1aba",
   "metadata": {},
   "outputs": [
    {
     "data": {
      "text/html": [
       "<div>\n",
       "<style scoped>\n",
       "    .dataframe tbody tr th:only-of-type {\n",
       "        vertical-align: middle;\n",
       "    }\n",
       "\n",
       "    .dataframe tbody tr th {\n",
       "        vertical-align: top;\n",
       "    }\n",
       "\n",
       "    .dataframe thead th {\n",
       "        text-align: right;\n",
       "    }\n",
       "</style>\n",
       "<table border=\"1\" class=\"dataframe\">\n",
       "  <thead>\n",
       "    <tr style=\"text-align: right;\">\n",
       "      <th></th>\n",
       "      <th>v_para</th>\n",
       "      <th>v_perp</th>\n",
       "      <th>phi</th>\n",
       "      <th>phidot</th>\n",
       "      <th>w</th>\n",
       "      <th>zeta</th>\n",
       "    </tr>\n",
       "  </thead>\n",
       "  <tbody>\n",
       "    <tr>\n",
       "      <th>0</th>\n",
       "      <td>1.000000</td>\n",
       "      <td>0.000000</td>\n",
       "      <td>1.570796</td>\n",
       "      <td>0.000000</td>\n",
       "      <td>0.2</td>\n",
       "      <td>0.0</td>\n",
       "    </tr>\n",
       "    <tr>\n",
       "      <th>1</th>\n",
       "      <td>1.000000</td>\n",
       "      <td>-0.172933</td>\n",
       "      <td>1.570796</td>\n",
       "      <td>0.000000</td>\n",
       "      <td>0.2</td>\n",
       "      <td>0.0</td>\n",
       "    </tr>\n",
       "    <tr>\n",
       "      <th>2</th>\n",
       "      <td>0.976984</td>\n",
       "      <td>-0.253956</td>\n",
       "      <td>1.676276</td>\n",
       "      <td>9.890399</td>\n",
       "      <td>0.2</td>\n",
       "      <td>0.0</td>\n",
       "    </tr>\n",
       "    <tr>\n",
       "      <th>3</th>\n",
       "      <td>0.913018</td>\n",
       "      <td>-0.317356</td>\n",
       "      <td>1.944790</td>\n",
       "      <td>16.520131</td>\n",
       "      <td>0.2</td>\n",
       "      <td>0.0</td>\n",
       "    </tr>\n",
       "    <tr>\n",
       "      <th>4</th>\n",
       "      <td>0.833164</td>\n",
       "      <td>-0.328895</td>\n",
       "      <td>2.322588</td>\n",
       "      <td>20.964173</td>\n",
       "      <td>0.2</td>\n",
       "      <td>0.0</td>\n",
       "    </tr>\n",
       "    <tr>\n",
       "      <th>5</th>\n",
       "      <td>0.793392</td>\n",
       "      <td>-0.251721</td>\n",
       "      <td>2.668161</td>\n",
       "      <td>14.052706</td>\n",
       "      <td>0.2</td>\n",
       "      <td>0.0</td>\n",
       "    </tr>\n",
       "    <tr>\n",
       "      <th>6</th>\n",
       "      <td>0.789675</td>\n",
       "      <td>-0.161650</td>\n",
       "      <td>2.899806</td>\n",
       "      <td>9.419810</td>\n",
       "      <td>0.2</td>\n",
       "      <td>0.0</td>\n",
       "    </tr>\n",
       "    <tr>\n",
       "      <th>7</th>\n",
       "      <td>0.792883</td>\n",
       "      <td>-0.095005</td>\n",
       "      <td>3.055082</td>\n",
       "      <td>6.314288</td>\n",
       "      <td>0.2</td>\n",
       "      <td>0.0</td>\n",
       "    </tr>\n",
       "    <tr>\n",
       "      <th>8</th>\n",
       "      <td>0.796384</td>\n",
       "      <td>-0.049020</td>\n",
       "      <td>3.159167</td>\n",
       "      <td>4.232594</td>\n",
       "      <td>0.2</td>\n",
       "      <td>0.0</td>\n",
       "    </tr>\n",
       "    <tr>\n",
       "      <th>9</th>\n",
       "      <td>0.799102</td>\n",
       "      <td>-0.017903</td>\n",
       "      <td>3.228937</td>\n",
       "      <td>2.837193</td>\n",
       "      <td>0.2</td>\n",
       "      <td>0.0</td>\n",
       "    </tr>\n",
       "    <tr>\n",
       "      <th>10</th>\n",
       "      <td>0.801046</td>\n",
       "      <td>0.003004</td>\n",
       "      <td>3.275705</td>\n",
       "      <td>1.901827</td>\n",
       "      <td>0.2</td>\n",
       "      <td>0.0</td>\n",
       "    </tr>\n",
       "  </tbody>\n",
       "</table>\n",
       "</div>"
      ],
      "text/plain": [
       "      v_para    v_perp       phi     phidot    w  zeta\n",
       "0   1.000000  0.000000  1.570796   0.000000  0.2   0.0\n",
       "1   1.000000 -0.172933  1.570796   0.000000  0.2   0.0\n",
       "2   0.976984 -0.253956  1.676276   9.890399  0.2   0.0\n",
       "3   0.913018 -0.317356  1.944790  16.520131  0.2   0.0\n",
       "4   0.833164 -0.328895  2.322588  20.964173  0.2   0.0\n",
       "5   0.793392 -0.251721  2.668161  14.052706  0.2   0.0\n",
       "6   0.789675 -0.161650  2.899806   9.419810  0.2   0.0\n",
       "7   0.792883 -0.095005  3.055082   6.314288  0.2   0.0\n",
       "8   0.796384 -0.049020  3.159167   4.232594  0.2   0.0\n",
       "9   0.799102 -0.017903  3.228937   2.837193  0.2   0.0\n",
       "10  0.801046  0.003004  3.275705   1.901827  0.2   0.0"
      ]
     },
     "execution_count": 817,
     "metadata": {},
     "output_type": "execute_result"
    }
   ],
   "source": [
    "pd.DataFrame(sim_data['x'], columns=simulator.state_names)"
   ]
  },
  {
   "cell_type": "code",
   "execution_count": 818,
   "id": "4d3d9403-6314-48a0-be8b-3ca3502d4164",
   "metadata": {},
   "outputs": [],
   "source": [
    "crange = 0.1\n",
    "cmap = cm.get_cmap('Blues')\n",
    "cmap = cmap(np.linspace(crange, 1, 100))\n",
    "cmap = ListedColormap(cmap)"
   ]
  },
  {
   "cell_type": "code",
   "execution_count": 819,
   "id": "975f40d8-c0c2-47f6-9e49-e2aae5f615be",
   "metadata": {},
   "outputs": [
    {
     "data": {
      "image/png": "[encoded data removed]",
      "text/plain": [
       "<Figure size 360x360 with 1 Axes>"
      ]
     },
     "metadata": {},
     "output_type": "display_data"
    }
   ],
   "source": [
    "fig, ax = plt.subplots(1, 1, figsize=(5, 5))\n",
    "ff.plot_trajectory(sim_data['xpos'],\n",
    "                   sim_data['ypos'],\n",
    "                   sim_data['phi'],\n",
    "                   color=sim_data['time'],\n",
    "                   ax=ax,\n",
    "                   size_radius=0.015,\n",
    "                   nskip=0,\n",
    "                   colormap=cmap)\n",
    "\n",
    "fifi.mpl_functions.adjust_spines(ax, [])"
   ]
  },
  {
   "cell_type": "markdown",
   "id": "cd1c4b00-488f-4aa8-9e98-29119da82988",
   "metadata": {},
   "source": [
    "### Plot heading angle & air speed angle over time"
   ]
  },
  {
   "cell_type": "code",
   "execution_count": 820,
   "id": "0c2081ca-d86f-404b-bc71-43b353e9ef28",
   "metadata": {},
   "outputs": [
    {
     "data": {
      "text/plain": [
       "<matplotlib.legend.Legend at 0x17be7a89fd0>"
      ]
     },
     "execution_count": 820,
     "metadata": {},
     "output_type": "execute_result"
    },
    {
     "data": {
      "image/png": "[encoded data removed]",
      "text/plain": [
       "<Figure size 432x504 with 2 Axes>"
      ]
     },
     "metadata": {
      "needs_background": "light"
     },
     "output_type": "display_data"
    }
   ],
   "source": [
    "fig, ax = plt.subplots(2, 1, figsize=(6, 7))\n",
    "\n",
    "ax[0].plot(sim_data['time'], sim_data['gamma'], lw=2, label='air speed angle in body frame')\n",
    "ax[0].plot(sim_data['time'], sim_data['phi'], lw=2, label='heading')\n",
    "\n",
    "ff.pi_yaxis(ax[0], tickpispace=0.25)\n",
    "\n",
    "ax[0].grid()\n",
    "ax[0].set_ylabel('rad')\n",
    "ax[0].legend()\n",
    "\n",
    "ax[1].plot(sim_data['time'], sim_data['a'], lw=2, label='air speed')\n",
    "ax[1].plot(sim_data['time'], sim_data['g'], lw=2, label='ground speed')\n",
    "\n",
    "ax[1].grid()\n",
    "ax[1].set_xlabel('time (s)')\n",
    "ax[1].set_ylabel('m/s')\n",
    "ax[1].legend()"
   ]
  },
  {
   "cell_type": "code",
   "execution_count": 821,
   "id": "474b5cb7-25e9-427b-b629-94fc848ea6cd",
   "metadata": {},
   "outputs": [
    {
     "data": {
      "text/plain": [
       "array([1.        , 1.01484275, 1.00945118, 0.96660015, 0.89573108,\n",
       "       0.83236688, 0.80605033, 0.79855489, 0.7978913 , 0.79930282,\n",
       "       0.8010514 ])"
      ]
     },
     "execution_count": 821,
     "metadata": {},
     "output_type": "execute_result"
    }
   ],
   "source": [
    "sim_data['g']"
   ]
  },
  {
   "cell_type": "markdown",
   "id": "e4e38f5b-f29a-4d9f-aec3-13736436bb80",
   "metadata": {},
   "source": [
    "### Save data"
   ]
  },
  {
   "cell_type": "code",
   "execution_count": 822,
   "id": "72f647ab-ee77-4bcc-9e3c-309741c7098b",
   "metadata": {},
   "outputs": [],
   "source": [
    "savepath = os.path.join(os.path.pardir, 'simulation_data', 'offline_trajectory_example.pk')"
   ]
  },
  {
   "cell_type": "code",
   "execution_count": 823,
   "id": "80d46d8c-7be0-49cc-a8f0-bc068916b0af",
   "metadata": {},
   "outputs": [],
   "source": [
    "with open(savepath, 'wb') as fp:\n",
    "    pickle.dump(sim_data, fp)"
   ]
  },
  {
   "cell_type": "markdown",
   "id": "0144bd42-8f0e-4e8a-99ef-3ee3c1b4f4fb",
   "metadata": {},
   "source": [
    "### Load data"
   ]
  },
  {
   "cell_type": "code",
   "execution_count": 824,
   "id": "6a830d75-c935-411e-8d46-1d5346b5d76a",
   "metadata": {},
   "outputs": [],
   "source": [
    "with open(savepath, 'rb') as fp:\n",
    "    data = pickle.load(fp)"
   ]
  },
  {
   "cell_type": "code",
   "execution_count": null,
   "id": "4ebcf847-fa3d-4b81-9372-77b309296072",
   "metadata": {},
   "outputs": [],
   "source": []
  }
 ],
 "metadata": {
  "kernelspec": {
   "display_name": "Python 3 (ipykernel)",
   "language": "python",
   "name": "python3"
  },
  "language_info": {
   "codemirror_mode": {
    "name": "ipython",
    "version": 3
   },
   "file_extension": ".py",
   "mimetype": "text/x-python",
   "name": "python",
   "nbconvert_exporter": "python",
   "pygments_lexer": "ipython3",
   "version": "3.9.12"
  }
 },
 "nbformat": 4,
 "nbformat_minor": 5
}
