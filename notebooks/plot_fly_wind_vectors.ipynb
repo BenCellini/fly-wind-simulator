{
 "cells": [
  {
   "cell_type": "code",
   "outputs": [
    {
     "name": "stdout",
     "output_type": "stream",
     "text": [
      "The autoreload extension is already loaded. To reload it, use:\n",
      "  %reload_ext autoreload\n"
     ]
    }
   ],
   "source": [
    "%reset -f\n",
    "%load_ext autoreload\n",
    "%autoreload 2\n",
    "\n",
    "\n",
    "import numpy as np\n",
    "import matplotlib.pyplot as plt\n",
    "from matplotlib.patches import FancyArrowPatch\n",
    "import figurefirst as fifi\n",
    "plt.style.use('default')"
   ],
   "metadata": {
    "collapsed": false,
    "ExecuteTime": {
     "end_time": "2024-03-29T22:33:25.808100Z",
     "start_time": "2024-03-29T22:33:25.408058900Z"
    }
   },
   "id": "410f42ab10c59a7",
   "execution_count": 305
  },
  {
   "cell_type": "markdown",
   "source": [
    "# Plot vectors according to fly-wind coordinate frame\n",
    "![fly_coordinate_system.png](../img/fly_coordinate_system.png)"
   ],
   "metadata": {
    "collapsed": false
   },
   "id": "136dc9ffa0f5165b"
  },
  {
   "cell_type": "markdown",
   "source": [
    "# Specify heading, ground speed + direction, & ambient wind speed + direction"
   ],
   "metadata": {
    "collapsed": false
   },
   "id": "c2839d9ffa281462"
  },
  {
   "cell_type": "code",
   "outputs": [],
   "source": [
    "phi = np.pi/3  # heading [rad]"
   ],
   "metadata": {
    "collapsed": false,
    "ExecuteTime": {
     "end_time": "2024-03-29T22:33:25.885010400Z",
     "start_time": "2024-03-29T22:33:25.806105200Z"
    }
   },
   "id": "795a6b35ad1780",
   "execution_count": 306
  },
  {
   "cell_type": "code",
   "outputs": [],
   "source": [
    "g = 0.4  # ground velocity magnitude\n",
    "psi = np.pi/10 # ground velocity direction [rad]"
   ],
   "metadata": {
    "collapsed": false,
    "ExecuteTime": {
     "end_time": "2024-03-29T22:33:25.943707700Z",
     "start_time": "2024-03-29T22:33:25.880024300Z"
    }
   },
   "id": "e5e11d75e17083c3",
   "execution_count": 307
  },
  {
   "cell_type": "code",
   "outputs": [],
   "source": [
    "w = 0.3  # ambient wind velocity magnitude\n",
    "zeta = -np.pi/4 # ambient wind velocity direction [rad]"
   ],
   "metadata": {
    "collapsed": false,
    "ExecuteTime": {
     "end_time": "2024-03-29T22:33:26.018989Z",
     "start_time": "2024-03-29T22:33:25.942710100Z"
    }
   },
   "id": "33234c3dd5a9a158",
   "execution_count": 308
  },
  {
   "cell_type": "markdown",
   "source": [
    "# Compute apparent wind"
   ],
   "metadata": {
    "collapsed": false
   },
   "id": "2f6fcc6447769b99"
  },
  {
   "cell_type": "code",
   "outputs": [
    {
     "name": "stdout",
     "output_type": "stream",
     "text": [
      "v_para: 0.3804226065180614\n",
      "v_perp: 0.12360679774997896\n",
      "\n",
      "a_para: 0.4580683200488176\n",
      "a_perp: 0.41338454563669946\n",
      "a: 0.6170197471747614\n",
      "gamma: 42.06472761914798 deg\n"
     ]
    }
   ],
   "source": [
    "# Ground velocity in fly frame\n",
    "v_para = g * np.cos(psi)  # parallel ground velocity in fly frame\n",
    "v_perp = g * np.sin(psi)  # perpendicular ground velocity in fly frame\n",
    "\n",
    "# Airspeed velocity in fly frame\n",
    "a_para = v_para - w * np.cos(phi - zeta)  # parallel apparent wind velocity in fly frame\n",
    "a_perp = v_perp + w * np.sin(phi - zeta)  # perpendicular apparent wind velocity in fly frame\n",
    "a = np.sqrt(a_para**2 + a_perp**2)  # apparent wind magnitude\n",
    "gamma = np.arctan2(a_perp, a_para)  # apparent wind angle [rad]\n",
    "\n",
    "# Print calculated variables\n",
    "print('v_para:', v_para)\n",
    "print('v_perp:', v_perp)\n",
    "print('')\n",
    "\n",
    "print('a_para:', a_para)\n",
    "print('a_perp:', a_perp)\n",
    "print('a:', a)\n",
    "print('gamma:', np.rad2deg(gamma), 'deg')"
   ],
   "metadata": {
    "collapsed": true,
    "ExecuteTime": {
     "end_time": "2024-03-29T22:33:26.109389400Z",
     "start_time": "2024-03-29T22:33:26.022642400Z"
    }
   },
   "id": "initial_id",
   "execution_count": 309
  },
  {
   "cell_type": "markdown",
   "source": [
    "# Compute x & y components in global frame for plotting"
   ],
   "metadata": {
    "collapsed": false
   },
   "id": "805676b5df2ad7d6"
  },
  {
   "cell_type": "code",
   "outputs": [],
   "source": [
    "# Ground velocity in global frame\n",
    "psi_global = phi + psi  # direction of travel in global frame\n",
    "g_x = g * np.cos(psi_global)  # x-velocity in global frame\n",
    "g_y = g * np.sin(psi_global)  # y-velocity in global frame\n",
    "\n",
    "# Ambient wind velocity in global frame\n",
    "w_x = w * np.cos(zeta)  # ambient wind x in global frame\n",
    "w_y = w * np.sin(zeta)  # ambient wind y in global frame\n",
    "\n",
    "# Air velocity in global frame\n",
    "a_x = g_x - w_x  # airspeed x in global frame\n",
    "a_y = g_y - w_y  # airspeed y in global frame\n",
    "# a_test = np.sqrt(a_x**2 + a_y**2)\n",
    "# a_test\n",
    "\n",
    "# Vector for heading, make same length as ground speed\n",
    "phi_x = g * np.cos(phi)  # heading x\n",
    "phi_y = g * np.sin(phi)  # heading y"
   ],
   "metadata": {
    "collapsed": false,
    "ExecuteTime": {
     "end_time": "2024-03-29T22:33:26.188235500Z",
     "start_time": "2024-03-29T22:33:26.101837600Z"
    }
   },
   "id": "c6eb0756e28be268",
   "execution_count": 310
  },
  {
   "cell_type": "markdown",
   "source": [
    "# Plot vector map"
   ],
   "metadata": {
    "collapsed": false
   },
   "id": "f5e53d973ba96544"
  },
  {
   "cell_type": "code",
   "outputs": [
    {
     "data": {
      "text/plain": "<Figure size 600x600 with 1 Axes>",
      "image/png": "[encoded data removed]"
     },
     "metadata": {},
     "output_type": "display_data"
    }
   ],
   "source": [
    "fig, ax = plt.subplots(1, 1, figsize=(6, 6), dpi=100)\n",
    "\n",
    "fly_cord = np.array([0.0, 0.0])\n",
    "\n",
    "lw = 1.5\n",
    "alpha = 1.0\n",
    "\n",
    "\n",
    "\n",
    "# plot axes\n",
    "axis_size = 0.7\n",
    "ax.plot([axis_size, -axis_size], [0, 0], '--', linewidth=1.0, color='gray')\n",
    "ax.plot([0.0, 0.0], [-axis_size,axis_size], '--', linewidth=1.0, color='gray')\n",
    "\n",
    "# Plot fly-wind vectors\n",
    "phi_color = 'blue'\n",
    "g_color = 'black'\n",
    "a_color = 'red'\n",
    "w_color = 'limegreen'\n",
    "\n",
    "ax.plot([fly_cord[0], fly_cord[0] + phi_x], [fly_cord[1], fly_cord[1] + phi_y], '-', linewidth=lw, color=phi_color, alpha=alpha, label='$\\phi$')\n",
    "ax.plot([fly_cord[0], fly_cord[0] + g_x], [fly_cord[1], fly_cord[1] + g_y], '-', linewidth=lw, color=g_color, alpha=alpha, label=r'$\\bar{g}$')\n",
    "ax.plot([fly_cord[0], fly_cord[0] + a_x], [fly_cord[1], fly_cord[1] + a_y], '-', linewidth=lw, color=a_color, alpha=alpha, label=r'$\\bar{a}$')\n",
    "ax.plot([fly_cord[0] + a_x, fly_cord[0] + w_x + a_x], [fly_cord[1] + a_y, fly_cord[1] + w_y + a_y], '-', linewidth=lw, color='limegreen', alpha=alpha, label=r'$\\bar{w}$')\n",
    "# ax.plot([fly_cord[0], w_x], [fly_cord[1], w_y], '-', linewidth=lw, color='limegreen', alpha=alpha)\n",
    "\n",
    "# Plot arrows\n",
    "mutation_scale = 10\n",
    "\n",
    "arrow_phi = FancyArrowPatch(posA=fly_cord, posB=fly_cord + (phi_x, phi_y), mutation_scale=mutation_scale, color=phi_color)\n",
    "ax.add_patch(arrow_phi)\n",
    "\n",
    "arrow_g = FancyArrowPatch(posA=fly_cord, posB=fly_cord + (g_x, g_y), mutation_scale=mutation_scale, color=g_color)\n",
    "ax.add_patch(arrow_g)\n",
    "\n",
    "arrow_a = FancyArrowPatch(posA=fly_cord, posB=fly_cord + (a_x, a_y), mutation_scale=mutation_scale, color=a_color)\n",
    "ax.add_patch(arrow_a)\n",
    "\n",
    "arrow_w = FancyArrowPatch(posA=fly_cord + (a_x, a_y), posB=fly_cord + (w_x + a_x, w_y + a_y), mutation_scale=mutation_scale, color=w_color)\n",
    "ax.add_patch(arrow_w)\n",
    "\n",
    "# Set axis properties\n",
    "ax.set_aspect(1)\n",
    "ax.autoscale()\n",
    "\n",
    "ax.set_xlim(-axis_size, axis_size)\n",
    "ax.set_ylim(-axis_size, axis_size)\n",
    "\n",
    "ax.legend()\n",
    "\n",
    "fifi.mpl_functions.adjust_spines(ax, [])"
   ],
   "metadata": {
    "collapsed": false,
    "ExecuteTime": {
     "end_time": "2024-03-29T22:33:26.591558400Z",
     "start_time": "2024-03-29T22:33:26.186243100Z"
    }
   },
   "id": "e267d75e8cfa5375",
   "execution_count": 311
  },
  {
   "cell_type": "code",
   "outputs": [],
   "source": [],
   "metadata": {
    "collapsed": false,
    "ExecuteTime": {
     "end_time": "2024-03-29T22:33:26.654141100Z",
     "start_time": "2024-03-29T22:33:26.602124100Z"
    }
   },
   "id": "94f4a0ce9378cfca",
   "execution_count": 311
  }
 ],
 "metadata": {
  "kernelspec": {
   "display_name": "Python 3",
   "language": "python",
   "name": "python3"
  },
  "language_info": {
   "codemirror_mode": {
    "name": "ipython",
    "version": 2
   },
   "file_extension": ".py",
   "mimetype": "text/x-python",
   "name": "python",
   "nbconvert_exporter": "python",
   "pygments_lexer": "ipython2",
   "version": "2.7.6"
  }
 },
 "nbformat": 4,
 "nbformat_minor": 5
}
